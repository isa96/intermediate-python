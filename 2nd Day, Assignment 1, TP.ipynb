{
 "cells": [
  {
   "cell_type": "markdown",
   "metadata": {},
   "source": [
    "### Exercise 4"
   ]
  },
  {
   "cell_type": "markdown",
   "metadata": {},
   "source": [
    "1. Create a null vector / 1D array size 10 and update fifth value to 11. "
   ]
  },
  {
   "cell_type": "code",
   "execution_count": 1,
   "metadata": {},
   "outputs": [],
   "source": [
    "import numpy as np"
   ]
  },
  {
   "cell_type": "code",
   "execution_count": 167,
   "metadata": {},
   "outputs": [
    {
     "name": "stdout",
     "output_type": "stream",
     "text": [
      "[0. 0. 0. 0. 0. 0. 0. 0. 0. 0.]\n",
      "[ 0.  0.  0.  0.  0.  0. 11.  0.  0.  0.]\n",
      "size:  10\n"
     ]
    }
   ],
   "source": [
    "# Create a null vector / 1 D array size 10\n",
    "soal1 = np.zeros(10)\n",
    "print(soal1)\n",
    "\n",
    "# Update fifth value to 11\n",
    "soal1[6] = 11\n",
    "print(soal1)\n",
    "\n",
    "print(\"size: \",soal1.size)"
   ]
  },
  {
   "cell_type": "markdown",
   "metadata": {},
   "source": [
    "2. Write a Numpy program to create a 2x3 arrays and change it into 3x2 arrays"
   ]
  },
  {
   "cell_type": "code",
   "execution_count": 168,
   "metadata": {},
   "outputs": [
    {
     "name": "stdout",
     "output_type": "stream",
     "text": [
      "[[0 1 2]\n",
      " [3 4 5]]\n",
      "shape:  (2, 3)\n"
     ]
    }
   ],
   "source": [
    "# Create a 2x3 arrays\n",
    "soal2 = np.arange(6).reshape(2,3)\n",
    "print(soal2)\n",
    "print(\"shape: \",soal2.shape)"
   ]
  },
  {
   "cell_type": "code",
   "execution_count": 169,
   "metadata": {},
   "outputs": [
    {
     "name": "stdout",
     "output_type": "stream",
     "text": [
      "[[0 1]\n",
      " [2 3]\n",
      " [4 5]]\n",
      "shape:  (3, 2)\n"
     ]
    }
   ],
   "source": [
    "# Change into 3x2 array\n",
    "soal2a = np.reshape(soal2,(3,2))\n",
    "print(soal2a)\n",
    "print(\"shape: \",soal2a.shape)"
   ]
  },
  {
   "cell_type": "markdown",
   "metadata": {},
   "source": [
    "3. Write a NumPy program to create a 2d array with 1 on the border and 0 inside. "
   ]
  },
  {
   "cell_type": "code",
   "execution_count": 143,
   "metadata": {},
   "outputs": [
    {
     "name": "stdout",
     "output_type": "stream",
     "text": [
      "Original array:\n",
      "[[1. 1. 1. 1. 1.]\n",
      " [1. 1. 1. 1. 1.]\n",
      " [1. 1. 1. 1. 1.]\n",
      " [1. 1. 1. 1. 1.]\n",
      " [1. 1. 1. 1. 1.]]\n",
      "shape:  (5, 5)\n"
     ]
    }
   ],
   "source": [
    "# Create 2D array with 1\n",
    "soal3 = np.ones((5,5))\n",
    "print(\"Original array:\")\n",
    "print(soal3)\n",
    "print(\"shape: \",soal3.shape)"
   ]
  },
  {
   "cell_type": "code",
   "execution_count": 170,
   "metadata": {},
   "outputs": [
    {
     "name": "stdout",
     "output_type": "stream",
     "text": [
      "1 on the border and 0 inside in the array\n",
      "[[1. 1. 1. 1. 1.]\n",
      " [1. 0. 0. 0. 1.]\n",
      " [1. 0. 0. 0. 1.]\n",
      " [1. 0. 0. 0. 1.]\n",
      " [1. 1. 1. 1. 1.]]\n",
      "shape:  (5, 5)\n"
     ]
    }
   ],
   "source": [
    "# Change the inside to 0\n",
    "soal3[1:-1,1:-1]=0\n",
    "print(\"1 on the border and 0 inside in the array\")\n",
    "print(soal3)\n",
    "print(\"shape: \",soal3.shape)"
   ]
  },
  {
   "cell_type": "markdown",
   "metadata": {},
   "source": [
    "4. Take a look at the following matrix, Access the [2,1,1]"
   ]
  },
  {
   "cell_type": "code",
   "execution_count": 69,
   "metadata": {},
   "outputs": [
    {
     "name": "stdout",
     "output_type": "stream",
     "text": [
      "[[[ 0  1  3]\n",
      "  [ 5  7  9]\n",
      "  [ 6  8 10]]\n",
      "\n",
      " [[ 0  2  4]\n",
      "  [ 6  8 10]\n",
      "  [ 0  1  3]]\n",
      "\n",
      " [[ 1  1  2]\n",
      "  [ 5  2  9]\n",
      "  [ 1  3  3]]]\n"
     ]
    }
   ],
   "source": [
    "z = np.array([[[0, 1, 3],\n",
    "               [5, 7, 9],\n",
    "               [6, 8, 10]],\n",
    "              \n",
    "              [[0, 2, 4],\n",
    "               [6, 8, 10],\n",
    "               [0, 1, 3]],\n",
    "             \n",
    "              [[1, 1, 2],\n",
    "               [5, 2, 9],\n",
    "               [1, 3, 3]]])\n",
    "print(z)"
   ]
  },
  {
   "cell_type": "code",
   "execution_count": 147,
   "metadata": {},
   "outputs": [
    {
     "name": "stdout",
     "output_type": "stream",
     "text": [
      "I access [2,1,1] by change with:  88\n",
      "[[[ 0  1  3]\n",
      "  [ 5  7  9]\n",
      "  [ 6  8 10]]\n",
      "\n",
      " [[ 0  2  4]\n",
      "  [ 6  8 10]\n",
      "  [ 0  1  3]]\n",
      "\n",
      " [[ 1  1  2]\n",
      "  [ 5 88  9]\n",
      "  [ 1  3  3]]]\n",
      "shape:  (3, 3, 3)\n"
     ]
    }
   ],
   "source": [
    "# Access the [2,1,1] from object \"z\" above\n",
    "soal4 = z[2,1,1]=88\n",
    "print(\"I access [2,1,1] by change with: \",soal4)\n",
    "print(z)\n",
    "print(\"shape: \",z.shape)"
   ]
  },
  {
   "cell_type": "markdown",
   "metadata": {},
   "source": [
    "### Assigment"
   ]
  },
  {
   "cell_type": "markdown",
   "metadata": {},
   "source": [
    "1. Create a 4x4 matrix with values ranging from 0 to 3.\n",
    "(The following image is just as an example. It doesn't represent the real image of arrays in the question) "
   ]
  },
  {
   "cell_type": "code",
   "execution_count": 108,
   "metadata": {},
   "outputs": [
    {
     "name": "stdout",
     "output_type": "stream",
     "text": [
      "Create a 4x4 matrix\n",
      "[[0. 0. 0. 0.]\n",
      " [0. 0. 0. 0.]\n",
      " [0. 0. 0. 0.]\n",
      " [0. 0. 0. 0.]]\n",
      "\n",
      "Change values ranging from 0 to 3\n",
      "[[0. 1. 2. 3.]\n",
      " [0. 1. 2. 3.]\n",
      " [0. 1. 2. 3.]\n",
      " [0. 1. 2. 3.]]\n"
     ]
    }
   ],
   "source": [
    "# 4x4 matrix with values ranging from 0-3\n",
    "assign1 = np.zeros((4,4))\n",
    "print(\"Create a 4x4 matrix\")\n",
    "print(assign1)\n",
    "print(\"\")\n",
    "\n",
    "print(\"Change values ranging from 0 to 3\")\n",
    "assign1 += np.arange(4)\n",
    "print(assign1)"
   ]
  },
  {
   "cell_type": "markdown",
   "metadata": {},
   "source": [
    "2. Create and array with shape of 4x4 and turn it into two arrays along the second axis."
   ]
  },
  {
   "cell_type": "code",
   "execution_count": 166,
   "metadata": {},
   "outputs": [
    {
     "name": "stdout",
     "output_type": "stream",
     "text": [
      "Original 4x4 array\n",
      "[[ 3  4  5  6]\n",
      " [ 7  8  9 10]\n",
      " [11 12 13 14]\n",
      " [15 16 17 18]]\n",
      "shape: (4, 4)\n",
      "\n",
      "Splitting into 2 arrays along the second axis\n",
      "[array([[ 3,  4],\n",
      "       [ 7,  8],\n",
      "       [11, 12],\n",
      "       [15, 16]]), array([[ 5,  6],\n",
      "       [ 9, 10],\n",
      "       [13, 14],\n",
      "       [17, 18]])]\n"
     ]
    }
   ],
   "source": [
    "# Create array with shape of 4x4\n",
    "assign2 = np.arange(3,19).reshape((4,4))\n",
    "print(\"Original 4x4 array\")\n",
    "print(assign2)\n",
    "print(\"shape:\",assign2.shape)\n",
    "print(\"\")\n",
    "\n",
    "# Turn it into two arrays along the second axis\n",
    "assign3 = np.hsplit(assign2,[2])\n",
    "print(\"Splitting into 2 arrays along the second axis\")\n",
    "print(assign3)"
   ]
  }
 ],
 "metadata": {
  "kernelspec": {
   "display_name": "Python 3",
   "language": "python",
   "name": "python3"
  },
  "language_info": {
   "codemirror_mode": {
    "name": "ipython",
    "version": 3
   },
   "file_extension": ".py",
   "mimetype": "text/x-python",
   "name": "python",
   "nbconvert_exporter": "python",
   "pygments_lexer": "ipython3",
   "version": "3.8.3"
  }
 },
 "nbformat": 4,
 "nbformat_minor": 4
}
